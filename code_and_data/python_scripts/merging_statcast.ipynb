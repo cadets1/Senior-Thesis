{
 "cells": [
  {
   "cell_type": "code",
   "execution_count": 1,
   "id": "88c69303",
   "metadata": {},
   "outputs": [],
   "source": [
    "import os\n",
    "import csv\n",
    "import pandas as pd\n",
    "import numpy as np"
   ]
  },
  {
   "cell_type": "code",
   "execution_count": 2,
   "id": "a7a80df7",
   "metadata": {},
   "outputs": [],
   "source": [
    "sb_kaggle_file = os.pardir + '/output_data/merged_sb_kaggle_data.csv'\n",
    "statcast_pitchers_file = os.pardir + '/input_data/statcast_data/statcast_pitchers.csv'\n",
    "statcast_runners_file = os.pardir + '/input_data/statcast_data/statcast_runners.csv'\n",
    "bbref_catchers_2017_file = os.pardir + '/input_data/statcast_data/bbref_catchers_2017.csv'\n",
    "statcast_catchers_2018_file = os.pardir + '/input_data/statcast_data/statcast_catchers_2018.csv'\n",
    "\n",
    "full_output_file = os.pardir + '/r_code_and_data/full_data.csv'\n",
    "pitchless_output_file = os.pardir + '/r_code_and_data/pitchless_data.csv'"
   ]
  },
  {
   "cell_type": "code",
   "execution_count": 3,
   "id": "86fe8738",
   "metadata": {},
   "outputs": [],
   "source": [
    "sb_kaggle_df = pd.read_csv(sb_kaggle_file, na_values='NaN', keep_default_na=False)\n",
    "sb_kaggle_df.rename(columns={'_merge':'orig_merge'}, inplace=True)"
   ]
  },
  {
   "cell_type": "code",
   "execution_count": 4,
   "id": "27ccb58d",
   "metadata": {},
   "outputs": [],
   "source": [
    "# add a variable tracking the target base(s) for a stolen base attempt\n",
    "target_base = len(sb_kaggle_df) * ['']\n",
    "for i in range(len(sb_kaggle_df)):\n",
    "    current_play = sb_kaggle_df['play'][i]\n",
    "    if('SB2' in current_play or 'CS2' in current_play or 'POCS2' in current_play):\n",
    "        target_base[i] = target_base[i] + '2;'\n",
    "    if('SB3' in current_play or 'CS3' in current_play or 'POCS3' in current_play):\n",
    "        target_base[i] = target_base[i] + '3;'\n",
    "    if('SBH' in current_play or 'CSH' in current_play or 'POCSH' in current_play):\n",
    "        target_base[i] = target_base[i] + 'H;'\n",
    "    \n",
    "sb_kaggle_df['target_base'] = target_base"
   ]
  },
  {
   "cell_type": "code",
   "execution_count": 5,
   "id": "f3b77c82",
   "metadata": {},
   "outputs": [
    {
     "name": "stdout",
     "output_type": "stream",
     "text": [
      "0\n"
     ]
    }
   ],
   "source": [
    "# only consider steals of second\n",
    "sb_kaggle_df = sb_kaggle_df[sb_kaggle_df['target_base']=='2;']\n",
    "\n",
    "# and exclude all of the cases where a runner is on second (there are 11 of these)\n",
    "# and can drop the 'on_second' variable\n",
    "sb_kaggle_df = sb_kaggle_df[sb_kaggle_df['on_second']==False]\n",
    "\n",
    "# no catcher is left-handed, so drop the handedness variable\n",
    "print(len(sb_kaggle_df[sb_kaggle_df['catcher_throws']=='L']))"
   ]
  },
  {
   "cell_type": "code",
   "execution_count": 6,
   "id": "7306e366",
   "metadata": {},
   "outputs": [],
   "source": [
    "# convert data about balls and strikes to a categorical variable indicating the type of count\n",
    "data_types_dict = {'b_count':str, 's_count':str}\n",
    "sb_kaggle_df = sb_kaggle_df.astype(data_types_dict)\n",
    "sb_kaggle_df['count'] = sb_kaggle_df['b_count'] + '-' + sb_kaggle_df['s_count']\n",
    "\n",
    "# indicate whether the count is a hitter's (H) count, a pitcher's (P) count, or neutral (N)\n",
    "count_dict = {'0-0':'N', '0-1':'N', '0-2':'P', '1-0':'N', '1-1':'N', '1-2':'P', '2-0':'H', '2-1':'N', '2-2':'P', \n",
    "              '3-0':'H', '3-1':'H', '3-2':'N', '4-2':'N'}\n",
    "sb_kaggle_df['count_type'] = sb_kaggle_df['count'].map(count_dict)\n",
    "\n",
    "# create dummy variables for count type\n",
    "hitters_count_dict = {'H':True, 'P':False, 'N':False}\n",
    "pitchers_count_dict = {'H':False, 'P':True, 'N':False}\n",
    "sb_kaggle_df['is_hitters_count'] = sb_kaggle_df['count_type'].map(hitters_count_dict)\n",
    "sb_kaggle_df['is_pitchers_count'] = sb_kaggle_df['count_type'].map(pitchers_count_dict)"
   ]
  },
  {
   "cell_type": "code",
   "execution_count": 7,
   "id": "f61ef410",
   "metadata": {},
   "outputs": [],
   "source": [
    "success_dict = {True:'SUCCESS', False:'FAILURE'}\n",
    "sb_kaggle_df['is_successful'] = sb_kaggle_df['is_successful'].map(success_dict)\n",
    "\n",
    "sb_kaggle_df.rename(columns={'is_successful':'outcome'}, inplace=True)"
   ]
  },
  {
   "cell_type": "code",
   "execution_count": 8,
   "id": "4190c5fc",
   "metadata": {
    "scrolled": true
   },
   "outputs": [
    {
     "name": "stdout",
     "output_type": "stream",
     "text": [
      "['game_id', 'home_team', 'away_team', 'date_time', 'play', 'is_stolen_base_attempt', 'outcome', 'inning', 'home_half', 'outs', 'pitcher', 'catcher', 'batter', 'on_first', 'on_second', 'on_third', 'runner_on_first', 'runner_on_second', 'runner_on_third', 'pitches', 'num_pitches', 'b_count', 's_count', 'pitch_num_on_event', 'strike_on_event', 'swing_on_event', 'pitchout_on_event', 'blocked_on_event', 'pickoffs_to_first', 'pickoffs_to_second', 'pickoffs_to_third', 'pitchouts', 'pitches_run_on', 'total_outs', 'pitcher_name', 'pitcher_throws', 'pitcher_height', 'pitcher_weight', 'catcher_name', 'catcher_throws', 'catcher_height', 'catcher_weight', 'batter_name', 'batter_bats', 'batter_height', 'batter_weight', 'runner_on_first_name', 'runner_on_first_height', 'runner_on_first_weight', 'runner_on_second_name', 'runner_on_second_height', 'runner_on_second_weight', 'runner_on_third_name', 'runner_on_third_height', 'runner_on_third_weight', 'g_id', 'ab_id', 'pitcher_id', 'batter_id', 'p_score', 'p_throws', 'stand', 'start_speed', 'end_speed', 'spin_rate', 'spin_dir', 'break_angle', 'break_length', 'break_y', 'nasty', 'zone', 'pitch_type', 'b_score', 'orig_merge', 'target_base', 'count', 'count_type', 'is_hitters_count', 'is_pitchers_count']\n"
     ]
    }
   ],
   "source": [
    "print(sb_kaggle_df.columns.tolist())"
   ]
  },
  {
   "cell_type": "code",
   "execution_count": 9,
   "id": "d2ca58da",
   "metadata": {},
   "outputs": [],
   "source": [
    "sb_kaggle_df = sb_kaggle_df[['outcome', 'inning', 'home_half', 'outs', 'on_third', 'pitches', 'num_pitches', 'is_hitters_count', \n",
    "                             'is_pitchers_count', 'pitch_num_on_event', 'strike_on_event', 'swing_on_event',\n",
    "                             'pitchout_on_event', 'blocked_on_event', 'pickoffs_to_first', 'pitchouts', 'pitches_run_on', 'pitcher_name', \n",
    "                             'catcher_name', 'runner_on_first_name', 'p_score', 'pitcher_throws', 'batter_bats', 'start_speed', 'end_speed', \n",
    "                             'spin_rate', 'spin_dir', 'break_angle', 'break_length', 'zone', 'pitch_type', 'b_score', 'orig_merge']]"
   ]
  },
  {
   "cell_type": "code",
   "execution_count": 10,
   "id": "d447bf3b",
   "metadata": {},
   "outputs": [
    {
     "name": "stdout",
     "output_type": "stream",
     "text": [
      "Index(['pitcher_name', 'p_total_pa_2017', 'p_total_stolen_base_2017',\n",
      "       'p_pickoff_attempt_1b_2017', 'p_pickoff_1b_2017',\n",
      "       'p_stolen_base_2b_2017', 'p_caught_stealing_2b_2017',\n",
      "       'p_pickoff_error_1b_2017', 'p_pitchout_2017', 'p_total_pitches_2017',\n",
      "       'out_zone_2017', 'pitch_count_offspeed_2017',\n",
      "       'pitch_count_fastball_2017', 'pitch_count_breaking_2017',\n",
      "       'in_zone_2017'],\n",
      "      dtype='object')\n",
      "Index(['pitcher_name', 'p_total_pa_2018', 'p_total_stolen_base_2018',\n",
      "       'p_pickoff_attempt_1b_2018', 'p_pickoff_1b_2018',\n",
      "       'p_stolen_base_2b_2018', 'p_caught_stealing_2b_2018',\n",
      "       'p_pickoff_error_1b_2018', 'p_pitchout_2018', 'p_total_pitches_2018',\n",
      "       'out_zone_2018', 'pitch_count_offspeed_2018',\n",
      "       'pitch_count_fastball_2018', 'pitch_count_breaking_2018',\n",
      "       'in_zone_2018'],\n",
      "      dtype='object')\n"
     ]
    }
   ],
   "source": [
    "statcast_pitchers_df = pd.read_csv(statcast_pitchers_file)\n",
    "\n",
    "statcast_pitchers_df = statcast_pitchers_df.iloc[:, :-1]\n",
    "statcast_pitchers_df.rename(columns={' first_name':'first_name', 'player_id':'p_id'}, inplace=True) \n",
    "statcast_pitchers_df['pitcher_name'] = statcast_pitchers_df['first_name'] + ' ' + statcast_pitchers_df['last_name']\n",
    "statcast_pitchers_df['pitcher_name'] = statcast_pitchers_df['pitcher_name'].apply(str.strip)\n",
    "statcast_pitchers_df = statcast_pitchers_df[['pitcher_name', 'year', 'p_total_pa', 'p_total_stolen_base', 'p_pickoff_attempt_1b', \n",
    "                                             'p_pickoff_1b', 'p_stolen_base_2b', 'p_caught_stealing_2b', 'p_pickoff_error_1b', \n",
    "                                             'p_pitchout', 'p_total_pitches', 'out_zone', 'pitch_count_offspeed', 'pitch_count_fastball',\n",
    "                                             'pitch_count_breaking', 'in_zone']]\n",
    "\n",
    "statcast_pitchers_2017_df = statcast_pitchers_df[statcast_pitchers_df['year']==2017]\n",
    "statcast_pitchers_2017_df = statcast_pitchers_2017_df.drop(['year'], axis=1)\n",
    "statcast_pitchers_2017_df = statcast_pitchers_2017_df.add_suffix('_2017')\n",
    "statcast_pitchers_2017_df.rename(columns={'pitcher_name_2017':'pitcher_name'}, inplace=True)\n",
    "\n",
    "statcast_pitchers_2018_df = statcast_pitchers_df[statcast_pitchers_df['year']==2018]\n",
    "statcast_pitchers_2018_df = statcast_pitchers_2018_df.drop(['year'], axis=1)\n",
    "statcast_pitchers_2018_df = statcast_pitchers_2018_df.add_suffix('_2018')\n",
    "statcast_pitchers_2018_df.rename(columns={'pitcher_name_2018':'pitcher_name'}, inplace=True)\n",
    "\n",
    "print(statcast_pitchers_2017_df.columns)\n",
    "print(statcast_pitchers_2018_df.columns)"
   ]
  },
  {
   "cell_type": "code",
   "execution_count": 11,
   "id": "6c2a7304",
   "metadata": {},
   "outputs": [
    {
     "name": "stdout",
     "output_type": "stream",
     "text": [
      "Index(['runner_on_first_name', 'r_caught_stealing_2b_2017',\n",
      "       'r_pickoff_1b_2017', 'r_stolen_base_2b_2017', 'r_sprint_speed_2017'],\n",
      "      dtype='object')\n",
      "Index(['runner_on_first_name', 'r_caught_stealing_2b_2018',\n",
      "       'r_pickoff_1b_2018', 'r_stolen_base_2b_2018', 'r_sprint_speed_2018'],\n",
      "      dtype='object')\n"
     ]
    }
   ],
   "source": [
    "statcast_runners_df = pd.read_csv(statcast_runners_file)\n",
    "\n",
    "statcast_runners_df = statcast_runners_df.iloc[:, :-1]\n",
    "statcast_runners_df.rename(columns={' first_name':'first_name', 'player_id':'r_id', 'n_bolts':'r_n_bolts', \n",
    "                                    'hp_to_1b':'r_hp_to_1b', 'sprint_speed':'r_sprint_speed'}, inplace=True)\n",
    "statcast_runners_df['runner_name'] = statcast_runners_df['first_name'] + ' ' + statcast_runners_df['last_name']\n",
    "statcast_runners_df = statcast_runners_df[['runner_name', 'year', 'r_caught_stealing_2b', 'r_pickoff_1b', 'r_stolen_base_2b',\n",
    "                                           'r_sprint_speed']]\n",
    "\n",
    "statcast_runners_2017_df = statcast_runners_df[statcast_runners_df['year']==2017]\n",
    "statcast_runners_2017_df = statcast_runners_2017_df.drop(['year'], axis=1)\n",
    "statcast_runners_2017_df = statcast_runners_2017_df.add_suffix('_2017')\n",
    "statcast_runners_2017_df.rename(columns={'runner_name_2017':'runner_on_first_name'}, inplace=True)\n",
    "\n",
    "statcast_runners_2018_df = statcast_runners_df[statcast_runners_df['year']==2018]\n",
    "statcast_runners_2018_df = statcast_runners_2018_df.drop(['year'], axis=1)\n",
    "statcast_runners_2018_df = statcast_runners_2018_df.add_suffix('_2018')\n",
    "statcast_runners_2018_df.rename(columns={'runner_name_2018':'runner_on_first_name'}, inplace=True)\n",
    "\n",
    "print(statcast_runners_2017_df.columns)\n",
    "print(statcast_runners_2018_df.columns)"
   ]
  },
  {
   "cell_type": "code",
   "execution_count": 12,
   "id": "c4f56e96",
   "metadata": {},
   "outputs": [
    {
     "name": "stdout",
     "output_type": "stream",
     "text": [
      "Index(['catcher_name', 'c_sb_rate_2017'], dtype='object')\n",
      "Index(['catcher_name', 'c_pop_2b_sba_2018'], dtype='object')\n"
     ]
    }
   ],
   "source": [
    "bbref_catchers_2017_df = pd.read_csv(bbref_catchers_2017_file)\n",
    "statcast_catchers_2018_df = pd.read_csv(statcast_catchers_2018_file)\n",
    "\n",
    "bbref_catchers_2017_df = bbref_catchers_2017_df[['Name', 'CS%']]\n",
    "bbref_catchers_2017_df['Name'] = bbref_catchers_2017_df['Name'].apply(str.replace, args=('\\xa0', ' '))\n",
    "duplicate_indicator = bbref_catchers_2017_df['Name'].duplicated()\n",
    "duplicate_indices = duplicate_indicator[duplicate_indicator].index.tolist()\n",
    "bbref_catchers_2017_df.drop(duplicate_indices, axis=0, inplace=True)\n",
    "bbref_catchers_2017_df = bbref_catchers_2017_df.reset_index(drop=True)\n",
    "\n",
    "bbref_catchers_2017_df['CS%'] = bbref_catchers_2017_df['CS%'].astype(str)\n",
    "bbref_catchers_2017_df['CS%'] = bbref_catchers_2017_df['CS%'].apply(str.replace, args=('%', ''))\n",
    "bbref_catchers_2017_df['CS%'] = bbref_catchers_2017_df['CS%'].astype(float) / 100\n",
    "bbref_catchers_2017_df['CS%'] = 1 - bbref_catchers_2017_df['CS%']\n",
    "bbref_catchers_2017_df.rename(columns={'Name':'catcher_name', 'CS%':'c_sb_rate_2017'}, inplace=True)\n",
    "\n",
    "statcast_catchers_2018_df = statcast_catchers_2018_df[['catcher', 'pop_2b_sba']]\n",
    "statcast_catchers_2018_df.rename(columns={'catcher':'catcher_name', 'pop_2b_sba':'c_pop_2b_sba_2018'}, inplace=True)\n",
    "\n",
    "print(bbref_catchers_2017_df.columns)\n",
    "print(statcast_catchers_2018_df.columns)"
   ]
  },
  {
   "cell_type": "code",
   "execution_count": null,
   "id": "f53ee084",
   "metadata": {},
   "outputs": [],
   "source": []
  },
  {
   "cell_type": "code",
   "execution_count": 13,
   "id": "e25441a9",
   "metadata": {},
   "outputs": [],
   "source": [
    "# fix pitcher names\n",
    "sb_kaggle_unique_pitcher_names = pd.DataFrame(sb_kaggle_df['pitcher_name'].unique(), columns=['pitcher_name'])\n",
    "sb_kaggle_unique_pitcher_names.to_csv(os.pardir + '/output_data/player_names/merging_statcast/sb_kaggle_pitcher_names.txt', \n",
    "                                     sep='\\n', index=False)\n",
    "\n",
    "statcast_2018_unique_pitcher_names = pd.DataFrame(statcast_pitchers_2018_df['pitcher_name'].unique(), columns=['pitcher_name'])\n",
    "statcast_2018_unique_pitcher_names.to_csv(os.pardir + '/output_data/player_names/merging_statcast/statcast_2018_pitcher_names.txt', \n",
    "                                         sep='\\n', index=False)"
   ]
  },
  {
   "cell_type": "code",
   "execution_count": 14,
   "id": "2c378c9b",
   "metadata": {},
   "outputs": [
    {
     "name": "stdout",
     "output_type": "stream",
     "text": [
      "['J.C. Ramirez', 'Lance McCullers', 'C.D. Pelham', 'Jorge de la Rosa', 'J.T. Chargois', 'Jimmie Sherfy', 'Daniel Winkler', 'Mike Wright', 'Michael Fiers', 'Jake Junis', 'Carl Edwards', 'Matt Boyd', 'Matt Festa', 'Phil Maton', 'Mark Leiter', 'Tom Milone', 'A.J. Ramos', 'Vincent Velasquez', 'Jose Valdez', 'Jacob Faria', 'Daniel Coulombe']\n"
     ]
    }
   ],
   "source": [
    "missed_pitchers_2018 = []\n",
    "for i in range(len(sb_kaggle_unique_pitcher_names)):\n",
    "    current_pitcher = sb_kaggle_unique_pitcher_names['pitcher_name'][i]\n",
    "    pitcher_found = False\n",
    "    for j in range(len(statcast_2018_unique_pitcher_names)):\n",
    "        if(statcast_2018_unique_pitcher_names['pitcher_name'][j]==current_pitcher):\n",
    "            pitcher_found = True\n",
    "            break\n",
    "    if(not pitcher_found):\n",
    "        missed_pitchers_2018.append(current_pitcher)\n",
    "print(missed_pitchers_2018)"
   ]
  },
  {
   "cell_type": "code",
   "execution_count": 15,
   "id": "3c1f0277",
   "metadata": {},
   "outputs": [],
   "source": [
    "# sb_kaggle - statcast\n",
    "# J.C. Ramirez - JC Ramirez\n",
    "# Lance McCullers - Lance McCullers Jr.\n",
    "# C.D. Pelham - CD Pelham\n",
    "# Jorge de la Rosa - Jorge De La Rosa\n",
    "# J.T. Chargois - JT Chargois\n",
    "# Jimmie Sherfy - James Sherfy\n",
    "# Daniel Winkler - Dan Winkler\n",
    "# Mike Wright - Mike Wright Jr.\n",
    "# Michael Fiers - Mike Fiers\n",
    "# Jake Junis - Jakob Junis\n",
    "# Carl Edwards - Carl Edwards Jr.\n",
    "# Matt Boyd - Matthew Boyd\n",
    "# Matt Festa - Matthew Festa\n",
    "# Phil Maton - Phil Maton III\n",
    "# Mark Leiter - Mark Leiter Jr.\n",
    "# Tom Milone - Tommy Milone\n",
    "# A.J. Ramos - AJ Ramos\n",
    "# Vincent Velasquez - Vince Velasquez\n",
    "# Jose Valdez - Jose A. Valdez\n",
    "# Jacob Faria - Jake Faria\n",
    "# Daniel Coulombe - Danny Coulombe\n",
    "# Jose Fernandez - Jose Manuel Fernandez\n",
    "\n",
    "\n",
    "# Seung Hwan Oh - Seunghwan Oh\n",
    "# Michael Dunn - Mike Dunn\n",
    "# Nestor Cortes - Nestor Cortes Jr."
   ]
  },
  {
   "cell_type": "code",
   "execution_count": 16,
   "id": "a7093678",
   "metadata": {},
   "outputs": [],
   "source": [
    "old_pitcher_names = ['JC Ramirez', 'Lance McCullers Jr.', 'CD Pelham', 'Jorge De La Rosa', 'JT Chargois', \n",
    "                         'James Sherfy', 'Dan Winkler', 'Mike Wright Jr.', 'Mike Fiers', 'Jakob Junis', 'Carl Edwards Jr.', 'Matthew Boyd', \n",
    "                         'Matthew Festa', 'Phil Maton III', 'Mark Leiter Jr.', 'Tommy Milone', 'AJ Ramos', 'Vince Velasquez',\n",
    "                         'Jose A. Valdez', 'Jake Faria', 'Danny Coulombe', 'Jose Manuel Fernandez']\n",
    "\n",
    "new_pitcher_names = ['J.C. Ramirez', 'Lance McCullers', 'C.D. Pelham', 'Jorge de la Rosa', 'J.T. Chargois', \n",
    "                         'Jimmie Sherfy', 'Daniel Winkler', 'Mike Wright', 'Michael Fiers', 'Jake Junis', 'Carl Edwards',\n",
    "                         'Matt Boyd', 'Matt Festa', 'Phil Maton', 'Mark Leiter', 'Tom Milone', 'A.J. Ramos',\n",
    "                         'Vincent Velasquez', 'Jose Valdez', 'Jacob Faria', 'Daniel Coulombe', 'Jose Fernandez']\n",
    "\n",
    "statcast_pitchers_2017_df = statcast_pitchers_2017_df[statcast_pitchers_2017_df['pitcher_name'].notnull()].copy()\n",
    "statcast_pitchers_2017_df['pitcher_name'] = statcast_pitchers_2017_df['pitcher_name'].replace(old_pitcher_names, new_pitcher_names)\n",
    "\n",
    "statcast_pitchers_2018_df = statcast_pitchers_2018_df[statcast_pitchers_2018_df['pitcher_name'].notnull()].copy()\n",
    "statcast_pitchers_2018_df['pitcher_name'] = statcast_pitchers_2018_df['pitcher_name'].replace(old_pitcher_names, new_pitcher_names)"
   ]
  },
  {
   "cell_type": "code",
   "execution_count": null,
   "id": "5bc73b2d",
   "metadata": {},
   "outputs": [],
   "source": []
  },
  {
   "cell_type": "code",
   "execution_count": 17,
   "id": "aad532d1",
   "metadata": {},
   "outputs": [],
   "source": [
    "# fix catcher names\n",
    "for i in range(len(bbref_catchers_2017_df)):\n",
    "    current_catcher = bbref_catchers_2017_df['catcher_name'][i]\n",
    "    catcher_encoding = current_catcher.encode('utf-8')\n",
    "    \n",
    "    if(catcher_encoding==b'Mart\\xc3\\xadn Maldonado'):\n",
    "        bbref_catchers_2017_df.at[i, 'catcher_name'] = 'Martin Maldonado'\n",
    "        \n",
    "    elif(catcher_encoding==b'Ren\\xc3\\xa9 Rivera'):\n",
    "        bbref_catchers_2017_df.at[i, 'catcher_name'] = 'Rene Rivera'\n",
    "        \n",
    "    elif(catcher_encoding==b'Jes\\xc3\\xbas Sucre'):\n",
    "        bbref_catchers_2017_df.at[i, 'catcher_name'] = 'Jesus Sucre'\n",
    "        \n",
    "    elif(catcher_encoding==b'Jos\\xc3\\xa9 Brice\\xc3\\xb1o'):\n",
    "        bbref_catchers_2017_df.at[i, 'catcher_name'] = 'Jose Briceno'\n",
    "        \n",
    "    elif(catcher_encoding==b'Omar Narv\\xc3\\xa1ez'):\n",
    "        bbref_catchers_2017_df.at[i, 'catcher_name'] = 'Omar Narvaez'\n",
    "        \n",
    "    elif(catcher_encoding==b'Elias D\\xc3\\xadaz'):\n",
    "        bbref_catchers_2017_df.at[i, 'catcher_name'] = 'Elias Diaz'\n",
    "        \n",
    "    elif(catcher_encoding==b'Carlos P\\xc3\\xa9rez'):\n",
    "        bbref_catchers_2017_df.at[i, 'catcher_name'] = 'Carlos Perez'\n",
    "        \n",
    "    elif(catcher_encoding==b'Tom\\xc3\\xa1s Nido'):\n",
    "        bbref_catchers_2017_df.at[i, 'catcher_name'] = 'Tomas Nido'\n",
    "    \n",
    "    elif(catcher_encoding==b'Manny Pi\\xc3\\xb1a'):\n",
    "        bbref_catchers_2017_df.at[i, 'catcher_name'] = 'Manny Pina'\n",
    "        \n",
    "    elif(catcher_encoding==b'Christian V\\xc3\\xa1zquez'):\n",
    "        bbref_catchers_2017_df.at[i, 'catcher_name'] = 'Christian Vazquez'\n",
    "        \n",
    "    elif(catcher_encoding==b'Alfredo Gonz\\xc3\\xa1lez'):\n",
    "        bbref_catchers_2017_df.at[i, 'catcher_name'] = 'Alfredo Gonzalez'\n",
    "        \n",
    "    elif(catcher_encoding==b'Francisco Pe\\xc3\\xb1a'):\n",
    "        bbref_catchers_2017_df.at[i, 'catcher_name'] = 'Francisco Pena'\n",
    "        \n",
    "    elif(catcher_encoding==b'Tom\\xc3\\xa1s Telis'):\n",
    "        bbref_catchers_2017_df.at[i, 'catcher_name'] = 'Tomas Telis'\n",
    "        \n",
    "    elif(catcher_encoding==b'Francisco Mej\\xc3\\xada'):\n",
    "        bbref_catchers_2017_df.at[i, 'catcher_name'] = 'Francisco Mejia'"
   ]
  },
  {
   "cell_type": "code",
   "execution_count": 18,
   "id": "52d0f229",
   "metadata": {},
   "outputs": [],
   "source": [
    "for i in range(len(statcast_catchers_2018_df)):\n",
    "    current_catcher = statcast_catchers_2018_df['catcher_name'][i]\n",
    "    catcher_encoding = current_catcher.encode('utf-8')\n",
    "    \n",
    "    if(catcher_encoding==b'Mart\\xc3\\xadn Maldonado'):\n",
    "        statcast_catchers_2018_df.at[i, 'catcher_name'] = 'Martin Maldonado'\n",
    "        \n",
    "    elif(catcher_encoding==b'Ren\\xc3\\xa9 Rivera'):\n",
    "        statcast_catchers_2018_df.at[i, 'catcher_name'] = 'Rene Rivera'\n",
    "        \n",
    "    elif(catcher_encoding==b'Jes\\xc3\\xbas Sucre'):\n",
    "        statcast_catchers_2018_df.at[i, 'catcher_name'] = 'Jesus Sucre'\n",
    "        \n",
    "    elif(catcher_encoding==b'Jos\\xc3\\xa9 Brice\\xc3\\xb1o'):\n",
    "        statcast_catchers_2018_df.at[i, 'catcher_name'] = 'Jose Briceno'\n",
    "        \n",
    "    elif(catcher_encoding==b'Omar Narv\\xc3\\xa1ez'):\n",
    "        statcast_catchers_2018_df.at[i, 'catcher_name'] = 'Omar Narvaez'\n",
    "        \n",
    "    elif(catcher_encoding==b'Elias D\\xc3\\xadaz'):\n",
    "        statcast_catchers_2018_df.at[i, 'catcher_name'] = 'Elias Diaz'\n",
    "        \n",
    "    elif(catcher_encoding==b'Carlos P\\xc3\\xa9rez'):\n",
    "        statcast_catchers_2018_df.at[i, 'catcher_name'] = 'Carlos Perez'\n",
    "        \n",
    "    elif(catcher_encoding==b'Tom\\xc3\\xa1s Nido'):\n",
    "        statcast_catchers_2018_df.at[i, 'catcher_name'] = 'Tomas Nido'\n",
    "    \n",
    "    elif(catcher_encoding==b'Manny Pi\\xc3\\xb1a'):\n",
    "        statcast_catchers_2018_df.at[i, 'catcher_name'] = 'Manny Pina'\n",
    "        \n",
    "    elif(catcher_encoding==b'Christian V\\xc3\\xa1zquez'):\n",
    "        statcast_catchers_2018_df.at[i, 'catcher_name'] = 'Christian Vazquez'\n",
    "        \n",
    "    elif(catcher_encoding==b'Alfredo Gonz\\xc3\\xa1lez'):\n",
    "        statcast_catchers_2018_df.at[i, 'catcher_name'] = 'Alfredo Gonzalez'\n",
    "        \n",
    "    elif(catcher_encoding==b'Francisco Pe\\xc3\\xb1a'):\n",
    "        statcast_catchers_2018_df.at[i, 'catcher_name'] = 'Francisco Pena'\n",
    "        \n",
    "    elif(catcher_encoding==b'Tom\\xc3\\xa1s Telis'):\n",
    "        statcast_catchers_2018_df.at[i, 'catcher_name'] = 'Tomas Telis'\n",
    "        \n",
    "    elif(catcher_encoding==b'Francisco Mej\\xc3\\xada'):\n",
    "        statcast_catchers_2018_df.at[i, 'catcher_name'] = 'Francisco Mejia'"
   ]
  },
  {
   "cell_type": "code",
   "execution_count": 19,
   "id": "465423fc",
   "metadata": {},
   "outputs": [],
   "source": [
    "sb_kaggle_unique_catcher_names = pd.DataFrame(sb_kaggle_df['catcher_name'].unique(), columns=['catcher_name'])\n",
    "sb_kaggle_unique_catcher_names.to_csv(os.pardir + '/output_data/player_names/merging_statcast/sb_kaggle_catcher_names.txt', \n",
    "                                     sep='\\n', index=False)\n",
    "\n",
    "statcast_2018_unique_catcher_names = pd.DataFrame(statcast_catchers_2018_df['catcher_name'].unique(), columns=['catcher_name'])\n",
    "statcast_2018_unique_catcher_names.to_csv(os.pardir + '/output_data/player_names/merging_statcast/statcast_2018_catcher_names.txt', \n",
    "                                         sep='\\n', index=False)"
   ]
  },
  {
   "cell_type": "code",
   "execution_count": 20,
   "id": "8b17638f",
   "metadata": {},
   "outputs": [
    {
     "name": "stdout",
     "output_type": "stream",
     "text": [
      "['Rafael Lopez', 'Mike Marjama', 'Steve Baron']\n"
     ]
    }
   ],
   "source": [
    "missed_catchers_2018 = []\n",
    "for i in range(len(sb_kaggle_unique_catcher_names)):\n",
    "    current_catcher = sb_kaggle_unique_catcher_names['catcher_name'][i]\n",
    "    catcher_found = False\n",
    "    for j in range(len(statcast_2018_unique_catcher_names)):\n",
    "        if(statcast_2018_unique_catcher_names['catcher_name'][j]==current_catcher):\n",
    "            catcher_found = True\n",
    "            break\n",
    "    if(not catcher_found):\n",
    "        missed_catchers_2018.append(current_catcher)\n",
    "print(missed_catchers_2018)"
   ]
  },
  {
   "cell_type": "code",
   "execution_count": 21,
   "id": "7f1a5302",
   "metadata": {},
   "outputs": [],
   "source": [
    "# sb_kaggle - statcast\n",
    "# Rafael Lopez - Raffy Lopez\n",
    "# Mike Marjama - NOT IN STATCAST 2018 DATA (is in 2017 data)\n",
    "# Steve Baron - Steven Baron"
   ]
  },
  {
   "cell_type": "code",
   "execution_count": 22,
   "id": "c5498ff4",
   "metadata": {},
   "outputs": [],
   "source": [
    "old_catcher_names = ['Raffy Lopez', 'Steven Baron']\n",
    "new_catcher_names = ['Rafael Lopez', 'Steve Baron']\n",
    "\n",
    "bbref_catchers_2017_df = bbref_catchers_2017_df[bbref_catchers_2017_df['catcher_name'].notnull()].copy()\n",
    "bbref_catchers_2017_df['catcher_name'] = bbref_catchers_2017_df['catcher_name'].replace(old_catcher_names, new_catcher_names)\n",
    "\n",
    "statcast_catchers_2018_df = statcast_catchers_2018_df[statcast_catchers_2018_df['catcher_name'].notnull()].copy()\n",
    "statcast_catchers_2018_df['catcher_name'] = statcast_catchers_2018_df['catcher_name'].replace(old_catcher_names, new_catcher_names)"
   ]
  },
  {
   "cell_type": "code",
   "execution_count": null,
   "id": "c6ace70f",
   "metadata": {},
   "outputs": [],
   "source": []
  },
  {
   "cell_type": "code",
   "execution_count": 23,
   "id": "284270f6",
   "metadata": {},
   "outputs": [],
   "source": [
    "# fix runner names\n",
    "statcast_runners_2017_df = statcast_runners_2017_df[statcast_runners_2017_df['runner_on_first_name'].notnull()].copy()\n",
    "statcast_runners_2017_df['runner_on_first_name'] = statcast_runners_2017_df['runner_on_first_name'].apply(str.strip)\n",
    "\n",
    "statcast_runners_2018_df = statcast_runners_2018_df[statcast_runners_2018_df['runner_on_first_name'].notnull()].copy()\n",
    "statcast_runners_2018_df['runner_on_first_name'] = statcast_runners_2018_df['runner_on_first_name'].apply(str.strip)"
   ]
  },
  {
   "cell_type": "code",
   "execution_count": 24,
   "id": "f96b1c47",
   "metadata": {},
   "outputs": [],
   "source": [
    "sb_kaggle_unique_runner_names = pd.DataFrame(sb_kaggle_df['runner_on_first_name'].unique(), columns=['runner_on_first_name'])\n",
    "sb_kaggle_unique_runner_names.to_csv(os.pardir + '/output_data/player_names/merging_statcast/sb_kaggle_runner_names.txt', \n",
    "                                     sep='\\n', index=False)\n",
    "\n",
    "statcast_2018_unique_runner_names = pd.DataFrame(statcast_runners_2018_df['runner_on_first_name'].unique(), columns=['runner_on_first_name'])\n",
    "statcast_2018_unique_runner_names.to_csv(os.pardir + '/output_data/player_names/merging_statcast/statcast_2018_runner_names.txt', \n",
    "                                         sep='\\n', index=False)"
   ]
  },
  {
   "cell_type": "code",
   "execution_count": 25,
   "id": "ecf8cff2",
   "metadata": {},
   "outputs": [
    {
     "name": "stdout",
     "output_type": "stream",
     "text": [
      "['Dee Gordon', 'Eric Young', 'A.J. Pollock', 'Steven Souza', 'Ronald Acuna', 'Michael Taylor', 'Michael Brantley', 'Steve Wilkerson', 'Jackie Bradley', 'Cedric Mullins', 'Lourdes Gurriel', 'J.T. Riddle', 'Yolmer Sanchez', 'Albert Almora', 'Terrance Gore', 'George Springer', 'Nelson Cruz', 'Jim Adduci', 'Yulieski Gurriel', 'J.B. Shuck', 'Buster Posey', 'Kevin Kaczmarski', 'Howie Kendrick', 'Rafael Lopez']\n"
     ]
    }
   ],
   "source": [
    "missed_runners_2018 = []\n",
    "for i in range(len(sb_kaggle_unique_runner_names)):\n",
    "    current_runner = sb_kaggle_unique_runner_names['runner_on_first_name'][i]\n",
    "    runner_found = False\n",
    "    for j in range(len(statcast_2018_unique_runner_names)):\n",
    "        if(statcast_2018_unique_runner_names['runner_on_first_name'][j]==current_runner):\n",
    "            runner_found = True\n",
    "            break\n",
    "    if(not runner_found):\n",
    "        missed_runners_2018.append(current_runner)\n",
    "print(missed_runners_2018)"
   ]
  },
  {
   "cell_type": "code",
   "execution_count": 26,
   "id": "b274fccc",
   "metadata": {},
   "outputs": [],
   "source": [
    "# sb_kaggle - statcast\n",
    "# Dee Gordon - Dee Strange-Gordon\n",
    "# Eric Young - Eric Young Jr.\n",
    "# A.J. Pollock - AJ Pollock\n",
    "# Steven Souza - Steven Souza Jr.\n",
    "# Ronald Acuna - Ronald Acuna Jr.\n",
    "# Michael Taylor - Michael A. Taylor\n",
    "# Michael Brantley - Michael Brantley Jr.\n",
    "# Steve Wilkerson - Stevie Wilkerson\n",
    "# Jackie Bradley - Jackie Bradley Jr.\n",
    "# Cedric Mullins - Cedric Mullins II\n",
    "# Lourdes Gurriel - Lourdes Gurriel Jr.\n",
    "# J.T. Riddle - JT Riddle\n",
    "# Yolmer Sanchez - Carlos Sanchez\n",
    "# Albert Almora - Albert Almora Jr.\n",
    "# Terrance Gore - NOT IN STATCAST 2018 DATA\n",
    "# George Springer - George Springer III\n",
    "# Nelson Cruz - Nelson Cruz Jr.\n",
    "# Jim Adduci - James Adduci\n",
    "# Yulieski Gurriel - Yuli Gurriel\n",
    "# J.B. Shuck - JB Shuck\n",
    "# Buster Posey - Buster Posey III\n",
    "# Kevin Kaczmarski - NOT IN STATCAST 2018 DATA\n",
    "# Howie Kendrick - Howie Kendrick III\n",
    "# Rafael Lopez - Raffy Lopez"
   ]
  },
  {
   "cell_type": "code",
   "execution_count": 27,
   "id": "a240b2b9",
   "metadata": {},
   "outputs": [],
   "source": [
    "old_runner_names = ['Dee Strange-Gordon', 'Eric Young Jr.', 'AJ Pollock', 'Steven Souza Jr.', 'Ronald Acuna Jr.',\n",
    "                        'Michael A. Taylor', 'Michael Brantley Jr.', 'Stevie Wilkerson', 'Jackie Bradley Jr.', 'Cedric Mullins II',\n",
    "                        'Lourdes Gurriel Jr.', 'JT Riddle', 'Carlos Sanchez', 'Albert Almora Jr.', 'George Springer III', 'Nelson Cruz Jr.',\n",
    "                        'James Adduci', 'Yuli Gurriel', 'JB Shuck', 'Buster Posey III', 'Howie Kendrick III', 'Raffy Lopez']\n",
    "new_runner_names = ['Dee Gordon', 'Eric Young', 'A.J. Pollock', 'Steven Souza', 'Ronald Acuna', 'Michael Taylor',\n",
    "                        'Michael Brantley', 'Steve Wilkerson', 'Jackie Bradley', 'Cedric Mullins', 'Lourdes Gurriel',\n",
    "                        'J.T. Riddle', 'Yolmer Sanchez', 'Albert Almora', 'George Springer', 'Nelson Cruz', 'Jim Adduci', 'Yulieski Gurriel',\n",
    "                        'J.B. Shuck', 'Buster Posey', 'Howie Kendrick', 'Rafael Lopez']\n",
    "\n",
    "statcast_runners_2017_df = statcast_runners_2017_df[statcast_runners_2017_df['runner_on_first_name'].notnull()].copy()\n",
    "statcast_runners_2017_df['runner_on_first_name'] = statcast_runners_2017_df['runner_on_first_name'].replace(old_runner_names, new_runner_names)\n",
    "\n",
    "statcast_runners_2017_df.loc[1052, 'runner_on_first_name'] = 'Daniel Robertson (CLE)'\n",
    "statcast_runners_2017_df.loc[[1052]]\n",
    "\n",
    "statcast_runners_2018_df = statcast_runners_2018_df[statcast_runners_2018_df['runner_on_first_name'].notnull()].copy()\n",
    "statcast_runners_2018_df['runner_on_first_name'] = statcast_runners_2018_df['runner_on_first_name'].replace(old_runner_names, new_runner_names)"
   ]
  },
  {
   "cell_type": "code",
   "execution_count": null,
   "id": "a9dcf02d",
   "metadata": {},
   "outputs": [],
   "source": []
  },
  {
   "cell_type": "code",
   "execution_count": 28,
   "id": "0ea2bd0f",
   "metadata": {},
   "outputs": [
    {
     "name": "stdout",
     "output_type": "stream",
     "text": [
      "2867\n"
     ]
    }
   ],
   "source": [
    "print(len(sb_kaggle_df))"
   ]
  },
  {
   "cell_type": "code",
   "execution_count": 29,
   "id": "76220b59",
   "metadata": {},
   "outputs": [],
   "source": [
    "# add 2017 statcast data to sb_kaggle data"
   ]
  },
  {
   "cell_type": "code",
   "execution_count": 30,
   "id": "73b4ecfa",
   "metadata": {},
   "outputs": [
    {
     "name": "stdout",
     "output_type": "stream",
     "text": [
      "2867\n",
      "414\n"
     ]
    }
   ],
   "source": [
    "# add 2017 pitcher data\n",
    "merged_2017_df_1 = sb_kaggle_df.merge(statcast_pitchers_2017_df, how='left', on='pitcher_name', indicator=True)\n",
    "merged_2017_df_1.rename(columns={'_merge':'merge_1'}, inplace=True)\n",
    "\n",
    "print(len(merged_2017_df_1))\n",
    "print(len(merged_2017_df_1[merged_2017_df_1['merge_1']=='left_only']))"
   ]
  },
  {
   "cell_type": "code",
   "execution_count": 31,
   "id": "c7573ecf",
   "metadata": {},
   "outputs": [
    {
     "name": "stdout",
     "output_type": "stream",
     "text": [
      "2867\n",
      "290\n"
     ]
    }
   ],
   "source": [
    "# add 2017 catcher data\n",
    "merged_2017_df_2 = merged_2017_df_1.merge(bbref_catchers_2017_df, how='left', on='catcher_name', indicator=True)\n",
    "merged_2017_df_2.rename(columns={'_merge':'merge_2'}, inplace=True)\n",
    "\n",
    "print(len(merged_2017_df_2))\n",
    "print(len(merged_2017_df_2[merged_2017_df_2['merge_2']=='left_only']))"
   ]
  },
  {
   "cell_type": "code",
   "execution_count": 32,
   "id": "27c22fff",
   "metadata": {},
   "outputs": [
    {
     "name": "stdout",
     "output_type": "stream",
     "text": [
      "2867\n",
      "326\n"
     ]
    }
   ],
   "source": [
    "# add 2017 runner data\n",
    "merged_2017_df_3 = merged_2017_df_2.merge(statcast_runners_2017_df, how='left', on='runner_on_first_name', indicator=True)\n",
    "merged_2017_df_3.rename(columns={'_merge':'merge_3'}, inplace=True)\n",
    "\n",
    "print(len(merged_2017_df_3))\n",
    "print(len(merged_2017_df_3[merged_2017_df_3['merge_3']=='left_only']))"
   ]
  },
  {
   "cell_type": "code",
   "execution_count": 33,
   "id": "74ca1206",
   "metadata": {},
   "outputs": [],
   "source": [
    "# add 2018 statcast data to sb_kaggle data"
   ]
  },
  {
   "cell_type": "code",
   "execution_count": 34,
   "id": "02c8ec43",
   "metadata": {},
   "outputs": [
    {
     "name": "stdout",
     "output_type": "stream",
     "text": [
      "2867\n",
      "0\n"
     ]
    }
   ],
   "source": [
    "# add 2018 pitcher data\n",
    "merged_2018_df_1 = merged_2017_df_3.merge(statcast_pitchers_2018_df, how='left', on='pitcher_name', indicator=True)\n",
    "merged_2018_df_1.rename(columns={'_merge':'merge_4'}, inplace=True)\n",
    "\n",
    "print(len(merged_2018_df_1))\n",
    "print(len(merged_2018_df_1[merged_2018_df_1['merge_4']=='left_only']))\n",
    "\n",
    "# every pitcher in stolen base data is accounted for in statcast data"
   ]
  },
  {
   "cell_type": "code",
   "execution_count": 35,
   "id": "a0fc436f",
   "metadata": {},
   "outputs": [
    {
     "name": "stdout",
     "output_type": "stream",
     "text": [
      "2867\n",
      "2\n"
     ]
    }
   ],
   "source": [
    "# add 2018 catcher data\n",
    "merged_2018_df_2 = merged_2018_df_1.merge(statcast_catchers_2018_df, how='left', on='catcher_name', indicator=True)\n",
    "merged_2018_df_2.rename(columns={'_merge':'merge_5'}, inplace=True)\n",
    "\n",
    "print(len(merged_2018_df_2))\n",
    "print(len(merged_2018_df_2[merged_2018_df_2['merge_5']=='left_only']))"
   ]
  },
  {
   "cell_type": "code",
   "execution_count": 36,
   "id": "978d05a2",
   "metadata": {},
   "outputs": [
    {
     "name": "stdout",
     "output_type": "stream",
     "text": [
      "2867\n",
      "6\n"
     ]
    }
   ],
   "source": [
    "# add 2018 runner data\n",
    "merged_2018_df_3 = merged_2018_df_2.merge(statcast_runners_2018_df, how='left', on='runner_on_first_name', indicator=True)\n",
    "merged_2018_df_3.rename(columns={'_merge':'merge_6'}, inplace=True)\n",
    "\n",
    "print(len(merged_2018_df_3))\n",
    "print(len(merged_2018_df_3[merged_2018_df_3['merge_6']=='left_only']))"
   ]
  },
  {
   "cell_type": "code",
   "execution_count": null,
   "id": "a220c2c7",
   "metadata": {},
   "outputs": [],
   "source": []
  },
  {
   "cell_type": "code",
   "execution_count": 37,
   "id": "a0b0f96e",
   "metadata": {},
   "outputs": [
    {
     "name": "stdout",
     "output_type": "stream",
     "text": [
      "['outcome', 'inning', 'home_half', 'outs', 'on_third', 'pitches', 'num_pitches', 'is_hitters_count', 'is_pitchers_count', 'pitch_num_on_event', 'strike_on_event', 'swing_on_event', 'pitchout_on_event', 'blocked_on_event', 'pickoffs_to_first', 'pitchouts', 'pitches_run_on', 'pitcher_name', 'catcher_name', 'runner_on_first_name', 'p_score', 'pitcher_throws', 'batter_bats', 'start_speed', 'end_speed', 'spin_rate', 'spin_dir', 'break_angle', 'break_length', 'zone', 'pitch_type', 'b_score', 'orig_merge', 'p_total_pa_2017', 'p_total_stolen_base_2017', 'p_pickoff_attempt_1b_2017', 'p_pickoff_1b_2017', 'p_stolen_base_2b_2017', 'p_caught_stealing_2b_2017', 'p_pickoff_error_1b_2017', 'p_pitchout_2017', 'p_total_pitches_2017', 'out_zone_2017', 'pitch_count_offspeed_2017', 'pitch_count_fastball_2017', 'pitch_count_breaking_2017', 'in_zone_2017', 'merge_1', 'c_sb_rate_2017', 'merge_2', 'r_caught_stealing_2b_2017', 'r_pickoff_1b_2017', 'r_stolen_base_2b_2017', 'r_sprint_speed_2017', 'merge_3', 'p_total_pa_2018', 'p_total_stolen_base_2018', 'p_pickoff_attempt_1b_2018', 'p_pickoff_1b_2018', 'p_stolen_base_2b_2018', 'p_caught_stealing_2b_2018', 'p_pickoff_error_1b_2018', 'p_pitchout_2018', 'p_total_pitches_2018', 'out_zone_2018', 'pitch_count_offspeed_2018', 'pitch_count_fastball_2018', 'pitch_count_breaking_2018', 'in_zone_2018', 'merge_4', 'c_pop_2b_sba_2018', 'merge_5', 'r_caught_stealing_2b_2018', 'r_pickoff_1b_2018', 'r_stolen_base_2b_2018', 'r_sprint_speed_2018', 'merge_6']\n"
     ]
    }
   ],
   "source": [
    "print(merged_2018_df_3.columns.tolist())"
   ]
  },
  {
   "cell_type": "code",
   "execution_count": 39,
   "id": "4ec6f68c",
   "metadata": {},
   "outputs": [],
   "source": [
    "columns_to_drop = ['home_half', 'inning', 'pitches', 'pitch_num_on_event', 'pitcher_name', 'catcher_name', 'runner_on_first_name', \n",
    "                   'end_speed', 'spin_rate', 'spin_dir', 'break_angle', 'break_length', 'zone', 'pitch_type', 'orig_merge',\n",
    "                   'p_total_stolen_base_2017', 'p_pickoff_error_1b_2017', 'p_pitchout_2017', 'out_zone_2017', 'in_zone_2017', \n",
    "                   'merge_1', 'merge_2', 'merge_3', 'out_zone_2018', 'in_zone_2018', 'merge_4', 'merge_5', 'merge_6']\n",
    "full_data = merged_2018_df_3.drop(columns_to_drop, axis=1)"
   ]
  },
  {
   "cell_type": "code",
   "execution_count": 40,
   "id": "7cfce1a6",
   "metadata": {},
   "outputs": [
    {
     "name": "stdout",
     "output_type": "stream",
     "text": [
      "['outcome', 'outs', 'on_third', 'num_pitches', 'is_hitters_count', 'is_pitchers_count', 'strike_on_event', 'swing_on_event', 'pitchout_on_event', 'blocked_on_event', 'pickoffs_to_first', 'pitchouts', 'pitches_run_on', 'p_score', 'pitcher_throws', 'batter_bats', 'start_speed', 'b_score', 'p_total_pa_2017', 'p_pickoff_attempt_1b_2017', 'p_pickoff_1b_2017', 'p_stolen_base_2b_2017', 'p_caught_stealing_2b_2017', 'p_total_pitches_2017', 'pitch_count_offspeed_2017', 'pitch_count_fastball_2017', 'pitch_count_breaking_2017', 'c_sb_rate_2017', 'r_caught_stealing_2b_2017', 'r_pickoff_1b_2017', 'r_stolen_base_2b_2017', 'r_sprint_speed_2017', 'p_total_pa_2018', 'p_total_stolen_base_2018', 'p_pickoff_attempt_1b_2018', 'p_pickoff_1b_2018', 'p_stolen_base_2b_2018', 'p_caught_stealing_2b_2018', 'p_pickoff_error_1b_2018', 'p_pitchout_2018', 'p_total_pitches_2018', 'pitch_count_offspeed_2018', 'pitch_count_fastball_2018', 'pitch_count_breaking_2018', 'c_pop_2b_sba_2018', 'r_caught_stealing_2b_2018', 'r_pickoff_1b_2018', 'r_stolen_base_2b_2018', 'r_sprint_speed_2018']\n"
     ]
    }
   ],
   "source": [
    "print(full_data.columns.tolist())"
   ]
  },
  {
   "cell_type": "code",
   "execution_count": 41,
   "id": "eccb321d",
   "metadata": {},
   "outputs": [],
   "source": [
    "for i in range(len(full_data)):\n",
    "    if(full_data['batter_bats'][i]=='B'):\n",
    "        if(full_data['pitcher_throws'][i]=='R'):\n",
    "            full_data.at[i, 'batter_bats']='L'\n",
    "        else:\n",
    "            full_data.at[i, 'batter_bats']='R'\n",
    "\n",
    "bat_throw_dict = {'L': True, 'R': False}\n",
    "full_data['batter_bats_left'] = full_data['batter_bats'].map(bat_throw_dict)\n",
    "full_data['pitcher_throws_left'] = full_data['pitcher_throws'].map(bat_throw_dict)\n",
    "\n",
    "full_data = full_data.drop(['pitcher_throws', 'batter_bats'], axis=1)"
   ]
  },
  {
   "cell_type": "code",
   "execution_count": 42,
   "id": "c8675846",
   "metadata": {},
   "outputs": [],
   "source": [
    "full_data['p_sb_rate_2017'] = full_data['p_stolen_base_2b_2017'] / (full_data['p_stolen_base_2b_2017'] + full_data['p_caught_stealing_2b_2017'])\n",
    "\n",
    "full_data['p_pickoff_rate_2018'] = full_data['p_pickoff_1b_2018'] / full_data['p_pickoff_attempt_1b_2018']\n",
    "\n",
    "full_data['p_fastball_rate_2018'] = full_data['pitch_count_fastball_2018'] / full_data['p_total_pitches_2018']\n",
    "\n",
    "full_data['r_sb_rate_2017'] = full_data['r_stolen_base_2b_2017'] / (full_data['r_stolen_base_2b_2017'] + full_data['r_caught_stealing_2b_2017'])\n",
    "\n",
    "full_data['b_score_difference'] = pd.to_numeric(full_data['b_score']) - pd.to_numeric(full_data['p_score'])"
   ]
  },
  {
   "cell_type": "code",
   "execution_count": 43,
   "id": "37a48195",
   "metadata": {},
   "outputs": [],
   "source": [
    "full_data = full_data[['outcome', 'outs', 'on_third', 'num_pitches', 'is_hitters_count', 'is_pitchers_count', \n",
    "                       'strike_on_event', 'swing_on_event', 'pitchout_on_event', 'blocked_on_event', \n",
    "                       'pickoffs_to_first', 'pitchouts', 'pitches_run_on', 'b_score_difference', 'pitcher_throws_left', \n",
    "                       'batter_bats_left', 'start_speed', 'p_sb_rate_2017', 'p_pickoff_rate_2018', 'p_fastball_rate_2018', \n",
    "                       'r_sb_rate_2017', 'r_sprint_speed_2018', 'c_sb_rate_2017', 'c_pop_2b_sba_2018']]"
   ]
  },
  {
   "cell_type": "code",
   "execution_count": 44,
   "id": "00a13d10",
   "metadata": {},
   "outputs": [],
   "source": [
    "pitchless_data = full_data[['outcome', 'outs', 'on_third', 'num_pitches', 'is_hitters_count', 'is_pitchers_count', \n",
    "                            'pickoffs_to_first', 'pitchouts', 'pitches_run_on', 'pitcher_throws_left', \n",
    "                            'batter_bats_left', 'p_sb_rate_2017', 'p_pickoff_rate_2018', 'p_fastball_rate_2018', \n",
    "                            'r_sb_rate_2017', 'r_sprint_speed_2018', 'c_sb_rate_2017', 'c_pop_2b_sba_2018']]\n",
    "\n",
    "# problem: any observation without pitch data also does not include the score of the game\n",
    "# when we drop the pitch data we also have to drop score data"
   ]
  },
  {
   "cell_type": "code",
   "execution_count": 46,
   "id": "98593214",
   "metadata": {},
   "outputs": [
    {
     "name": "stdout",
     "output_type": "stream",
     "text": [
      "2049\n",
      "818\n"
     ]
    }
   ],
   "source": [
    "# somewhat imbalanced data:\n",
    "print(len(full_data[full_data['outcome']=='SUCCESS']))\n",
    "print(len(full_data[full_data['outcome']=='FAILURE']))"
   ]
  },
  {
   "cell_type": "code",
   "execution_count": 47,
   "id": "6f6966e9",
   "metadata": {},
   "outputs": [],
   "source": [
    "full_data.to_csv(full_output_file, index=False)\n",
    "pitchless_data.to_csv(pitchless_output_file, index=False)"
   ]
  }
 ],
 "metadata": {
  "kernelspec": {
   "display_name": "Python 3 (ipykernel)",
   "language": "python",
   "name": "python3"
  },
  "language_info": {
   "codemirror_mode": {
    "name": "ipython",
    "version": 3
   },
   "file_extension": ".py",
   "mimetype": "text/x-python",
   "name": "python",
   "nbconvert_exporter": "python",
   "pygments_lexer": "ipython3",
   "version": "3.9.7"
  }
 },
 "nbformat": 4,
 "nbformat_minor": 5
}

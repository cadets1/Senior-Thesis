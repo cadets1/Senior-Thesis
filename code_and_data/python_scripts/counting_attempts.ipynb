{
 "cells": [
  {
   "cell_type": "code",
   "execution_count": 1,
   "id": "ef4b3641",
   "metadata": {},
   "outputs": [],
   "source": [
    "import os\n",
    "import csv"
   ]
  },
  {
   "cell_type": "code",
   "execution_count": 4,
   "id": "016894dc",
   "metadata": {},
   "outputs": [],
   "source": [
    "input_directory = os.pardir + '/input_data/2018pbp/'\n",
    "output_directory = os.pardir + '/output_data/attempt_counts/'\n",
    "\n",
    "for filename in os.listdir(input_directory):\n",
    "    \n",
    "    input_filename = input_directory + filename\n",
    "    with open(input_filename, 'r', encoding='utf8') as fin:\n",
    "        team_pbp = fin.readlines()\n",
    "    \n",
    "    output_filename = output_directory + filename.split('.')[0] + '_attempts.csv'\n",
    "    \n",
    "    num_lines = len(team_pbp)\n",
    "    game_id = team_pbp[0].split(',')[1].strip('\\n')\n",
    "    sb_events = 0\n",
    "    innings = ''\n",
    "    \n",
    "    with open(output_filename, 'w', newline='') as fout:\n",
    "        writer = csv.writer(fout, delimiter=',')\n",
    "        writer.writerow(['game_id', 'num_sb_events', 'innings'])\n",
    "        for i in range(1, num_lines):\n",
    "            record = team_pbp[i].split(',')\n",
    "            if record[0] == 'id':\n",
    "                writer.writerow([game_id, sb_events, innings])\n",
    "                game_id = record[1].strip('\\n')\n",
    "                sb_events = 0\n",
    "                innings = ''\n",
    "            elif record[0] == 'play':\n",
    "                current_inning = record[1] + '.' + record[2]\n",
    "                # format: current_inning = inning.half\n",
    "                # half = 0 if away team is batting (top), half = 1 if home team is batting (bottom)\n",
    "                play = record[6]\n",
    "                batter_play = play.split('.')[0]\n",
    "                basic_play = batter_play.split('/')[0]\n",
    "                if 'SB' in basic_play or 'CS' in basic_play or 'POCS' in basic_play:\n",
    "                    sb_events = sb_events + 1\n",
    "                    if(current_inning not in innings):\n",
    "                        innings = innings + current_inning + ';'\n",
    "                    \n",
    "        writer.writerow([game_id, sb_events, innings])"
   ]
  }
 ],
 "metadata": {
  "kernelspec": {
   "display_name": "Python 3 (ipykernel)",
   "language": "python",
   "name": "python3"
  },
  "language_info": {
   "codemirror_mode": {
    "name": "ipython",
    "version": 3
   },
   "file_extension": ".py",
   "mimetype": "text/x-python",
   "name": "python",
   "nbconvert_exporter": "python",
   "pygments_lexer": "ipython3",
   "version": "3.9.7"
  }
 },
 "nbformat": 4,
 "nbformat_minor": 5
}

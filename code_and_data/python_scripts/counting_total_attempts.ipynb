{
 "cells": [
  {
   "cell_type": "code",
   "execution_count": 1,
   "id": "c2eb2f6a",
   "metadata": {},
   "outputs": [],
   "source": [
    "import numpy as np\n",
    "import pandas as pd\n",
    "import os\n",
    "import csv"
   ]
  },
  {
   "cell_type": "code",
   "execution_count": 2,
   "id": "dcb91e96",
   "metadata": {},
   "outputs": [],
   "source": [
    "input_directory = os.pardir + '/output_data/attempt_counts/'\n",
    "total_attempts = 0"
   ]
  },
  {
   "cell_type": "code",
   "execution_count": 3,
   "id": "05368935",
   "metadata": {},
   "outputs": [],
   "source": [
    "for file in os.listdir(input_directory):\n",
    "    filename = input_directory + file\n",
    "    current_game_df = pd.read_csv(filename)\n",
    "    total_attempts = total_attempts + current_game_df['num_sb_events'].sum()"
   ]
  },
  {
   "cell_type": "code",
   "execution_count": 4,
   "id": "58cd0d0c",
   "metadata": {},
   "outputs": [
    {
     "name": "stdout",
     "output_type": "stream",
     "text": [
      "3346\n"
     ]
    }
   ],
   "source": [
    "print(total_attempts)"
   ]
  }
 ],
 "metadata": {
  "kernelspec": {
   "display_name": "Python 3 (ipykernel)",
   "language": "python",
   "name": "python3"
  },
  "language_info": {
   "codemirror_mode": {
    "name": "ipython",
    "version": 3
   },
   "file_extension": ".py",
   "mimetype": "text/x-python",
   "name": "python",
   "nbconvert_exporter": "python",
   "pygments_lexer": "ipython3",
   "version": "3.9.7"
  }
 },
 "nbformat": 4,
 "nbformat_minor": 5
}

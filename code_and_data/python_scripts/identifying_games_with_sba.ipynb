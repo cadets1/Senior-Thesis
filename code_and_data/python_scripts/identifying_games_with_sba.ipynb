{
 "cells": [
  {
   "cell_type": "code",
   "execution_count": 1,
   "id": "e67d8741",
   "metadata": {},
   "outputs": [],
   "source": [
    "import numpy as np\n",
    "import pandas as pd\n",
    "import os"
   ]
  },
  {
   "cell_type": "code",
   "execution_count": 2,
   "id": "fd37c285",
   "metadata": {},
   "outputs": [],
   "source": [
    "games_with_sba_df = pd.DataFrame(columns=['game_id', 'num_sb_events', 'innings'])\n",
    "\n",
    "input_directory = os.pardir + '/output_data/attempt_counts'\n",
    "output_file = os.pardir + '/output_data/games_with_sba.csv'"
   ]
  },
  {
   "cell_type": "code",
   "execution_count": 3,
   "id": "dba77e97",
   "metadata": {},
   "outputs": [],
   "source": [
    "for file in os.listdir(input_directory):\n",
    "    filename = input_directory + '/' + file\n",
    "    current_game_df = pd.read_csv(filename)\n",
    "    current_game_df = current_game_df[current_game_df['num_sb_events'] > 0]\n",
    "    games_with_sba_df = pd.concat([games_with_sba_df, current_game_df], ignore_index=True)"
   ]
  },
  {
   "cell_type": "code",
   "execution_count": 4,
   "id": "1d75d597",
   "metadata": {},
   "outputs": [],
   "source": [
    "games_with_sba_df.to_csv(output_file, sep=',', index=False)"
   ]
  }
 ],
 "metadata": {
  "kernelspec": {
   "display_name": "Python 3 (ipykernel)",
   "language": "python",
   "name": "python3"
  },
  "language_info": {
   "codemirror_mode": {
    "name": "ipython",
    "version": 3
   },
   "file_extension": ".py",
   "mimetype": "text/x-python",
   "name": "python",
   "nbconvert_exporter": "python",
   "pygments_lexer": "ipython3",
   "version": "3.9.7"
  }
 },
 "nbformat": 4,
 "nbformat_minor": 5
}

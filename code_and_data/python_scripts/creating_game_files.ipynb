{
 "cells": [
  {
   "cell_type": "code",
   "execution_count": 1,
   "id": "573f5dcd",
   "metadata": {},
   "outputs": [],
   "source": [
    "import os\n",
    "import csv\n",
    "import pandas as pd"
   ]
  },
  {
   "cell_type": "code",
   "execution_count": 2,
   "id": "c4eb9610",
   "metadata": {},
   "outputs": [],
   "source": [
    "games_file = os.pardir + '/output_data/games_with_sba.csv'\n",
    "input_directory = os.pardir + '/input_data/2018pbp'\n",
    "output_directory = os.pardir + '/output_data/play_by_play'"
   ]
  },
  {
   "cell_type": "code",
   "execution_count": 3,
   "id": "d35e87b5",
   "metadata": {},
   "outputs": [],
   "source": [
    "games_df = pd.read_csv(games_file)\n",
    "num_games = len(games_df)"
   ]
  },
  {
   "cell_type": "code",
   "execution_count": 4,
   "id": "843008ce",
   "metadata": {},
   "outputs": [],
   "source": [
    "game_index = 0\n",
    "current_id = games_df['game_id'][game_index]\n",
    "innings_with_sba = games_df['innings'][game_index]\n",
    "\n",
    "for file in os.listdir(input_directory):\n",
    "    if(game_index >= num_games):\n",
    "        break\n",
    "    \n",
    "    input_file = input_directory + '/' + file\n",
    "    with open(input_file, 'r', encoding='utf8') as fin:\n",
    "        team_pbp = fin.readlines()\n",
    "       \n",
    "    num_lines = len(team_pbp)\n",
    "    current_line = 0\n",
    "    \n",
    "    while(current_line < num_lines):\n",
    "        record = team_pbp[current_line].strip('\\n').split(',')\n",
    "        \n",
    "        if(record[0] == 'id' and record[1] == current_id):\n",
    "            output_file = output_directory + '/' + current_id + '.csv'\n",
    "            # write this game's play-by-play data to its own file\n",
    "            with open(output_file, 'w', newline='') as fout:\n",
    "                writer = csv.writer(fout, delimiter=',')\n",
    "                writer.writerow(record)\n",
    "                current_line = current_line + 1\n",
    "                while(current_line < num_lines):\n",
    "                    record = team_pbp[current_line].strip('\\n').split(',')\n",
    "                    if(record[0] != 'id'):\n",
    "                        # only write the record if it is important - important info, substitutions, or innings with stolen base attempts\n",
    "                        is_important_record = False\n",
    "                        if(record[0] == 'info'):\n",
    "                            if(record[1] in ['visteam', 'hometeam', 'date', 'starttime']):\n",
    "                                is_important_record = True\n",
    "                        elif(record[0] == 'start'):\n",
    "                            is_important_record = True\n",
    "                        elif(record[0] == 'sub'):\n",
    "                            is_important_record = True\n",
    "                        elif(record[0] =='play'):\n",
    "                            current_inning = record[1] + '.' + record[2]\n",
    "                            if(current_inning in innings_with_sba):\n",
    "                                is_important_record = True       \n",
    "                        if(is_important_record):\n",
    "                            writer.writerow(record)\n",
    "                        current_line = current_line + 1\n",
    "                    else:\n",
    "                        break\n",
    "                        \n",
    "            game_index = game_index + 1\n",
    "            if(game_index >= num_games):\n",
    "                break\n",
    "            current_id = games_df['game_id'][game_index]\n",
    "            innings_with_sba = games_df['innings'][game_index]\n",
    "                    \n",
    "        else:\n",
    "            current_line = current_line + 1"
   ]
  }
 ],
 "metadata": {
  "kernelspec": {
   "display_name": "Python 3 (ipykernel)",
   "language": "python",
   "name": "python3"
  },
  "language_info": {
   "codemirror_mode": {
    "name": "ipython",
    "version": 3
   },
   "file_extension": ".py",
   "mimetype": "text/x-python",
   "name": "python",
   "nbconvert_exporter": "python",
   "pygments_lexer": "ipython3",
   "version": "3.9.7"
  }
 },
 "nbformat": 4,
 "nbformat_minor": 5
}
